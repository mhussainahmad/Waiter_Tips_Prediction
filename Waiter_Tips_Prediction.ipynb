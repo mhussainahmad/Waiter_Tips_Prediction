{
  "nbformat": 4,
  "nbformat_minor": 0,
  "metadata": {
    "colab": {
      "name": "Waiter Tips Prediction.ipynb",
      "provenance": [],
      "authorship_tag": "ABX9TyOGS4GlWyE8o7DdS+9DQRGj"
    },
    "kernelspec": {
      "name": "python3",
      "display_name": "Python 3"
    },
    "language_info": {
      "name": "python"
    }
  },
  "cells": [
    {
      "cell_type": "code",
      "execution_count": null,
      "metadata": {
        "id": "QvAYZsXOldhx"
      },
      "outputs": [],
      "source": [
        ""
      ]
    }
  ]
}